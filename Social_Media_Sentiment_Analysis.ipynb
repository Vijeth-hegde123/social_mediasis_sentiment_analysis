{
  "nbformat": 4,
  "nbformat_minor": 0,
  "metadata": {
    "colab": {
      "provenance": [],
      "toc_visible": true
    },
    "kernelspec": {
      "name": "python3",
      "display_name": "Python 3"
    },
    "language_info": {
      "name": "python"
    }
  },
  "cells": [
    {
      "cell_type": "code",
      "execution_count": null,
      "metadata": {
        "id": "P9sEZKtzI7LM"
      },
      "outputs": [],
      "source": [
        "X_train = [\"This was really awesome an awesome movie\",\n",
        "           \"Great movie! Ilikes it a lot\",\n",
        "           \"Happy Ending! Awesome Acting by hero\",\n",
        "           \"loved it!\",\n",
        "           \"Bad not upto the mark\",\n",
        "           \"Could have been better\",\n",
        "           \"really Dissapointed by the movie\"]\n",
        "# X_test = \"it was really awesome and really disspntd\"\n",
        "\n",
        "y_train = [\"positive\",\"positive\",\"positive\",\"positive\",\"negative\",\"negative\",\"negative\"] # 1- Positive class, 0- negative class\n",
        "\n"
      ]
    },
    {
      "cell_type": "code",
      "source": [
        "X_train # Reviews"
      ],
      "metadata": {
        "colab": {
          "base_uri": "https://localhost:8080/"
        },
        "id": "eho36_66O3Qp",
        "outputId": "d9bbf4c7-dda3-4451-f5c0-ad3c6e2d6797"
      },
      "execution_count": null,
      "outputs": [
        {
          "output_type": "execute_result",
          "data": {
            "text/plain": [
              "['This was really awesome an awesome movie',\n",
              " 'Great movie! Ilikes it a lot',\n",
              " 'Happy Ending! Awesome Acting by hero',\n",
              " 'loved it!',\n",
              " 'Bad not upto the mark',\n",
              " 'Could have been better',\n",
              " 'really Dissapointed by the movie']"
            ]
          },
          "metadata": {},
          "execution_count": 106
        }
      ]
    },
    {
      "cell_type": "code",
      "source": [],
      "metadata": {
        "id": "BzesGcsd19b9"
      },
      "execution_count": null,
      "outputs": []
    },
    {
      "cell_type": "markdown",
      "source": [
        "# Cleaning of the data"
      ],
      "metadata": {
        "id": "lfiyn79qO-0T"
      }
    },
    {
      "cell_type": "code",
      "source": [
        "# Tokenize\n",
        "# \"I am a python dev\" -> [\"I\", \"am\", \"a\", \"python\", \"dev\"]"
      ],
      "metadata": {
        "id": "DzXC8UmGPL1I"
      },
      "execution_count": null,
      "outputs": []
    },
    {
      "cell_type": "code",
      "source": [
        "from nltk.tokenize import RegexpTokenizer\n",
        "# NLTK -> Tokenize -> RegexpTokenizer"
      ],
      "metadata": {
        "id": "UZJ2jyJXO5RB"
      },
      "execution_count": null,
      "outputs": []
    },
    {
      "cell_type": "code",
      "source": [
        "# Stemming\n",
        "# \"Playing\" -> \"Play\"\n",
        "# \"Working\" -> \"Work\""
      ],
      "metadata": {
        "id": "zPcXkoKCQfRe"
      },
      "execution_count": null,
      "outputs": []
    },
    {
      "cell_type": "code",
      "source": [
        "from nltk.stem.porter import PorterStemmer\n",
        "# NLTK -> Stem -> Porter -> PorterStemmer\n",
        "\n",
        "from nltk.corpus import stopwords\n",
        "# NLTK -> Corpus -> stopwords"
      ],
      "metadata": {
        "id": "te5tMTiOQ4AH"
      },
      "execution_count": null,
      "outputs": []
    },
    {
      "cell_type": "code",
      "source": [
        "# Downloading the stopwords\n",
        "import nltk\n",
        "nltk.download('stopwords')"
      ],
      "metadata": {
        "colab": {
          "base_uri": "https://localhost:8080/"
        },
        "id": "Lj9GnzQ-Rgfs",
        "outputId": "7a4531fa-e073-4831-ff44-28fc98c1d86f"
      },
      "execution_count": null,
      "outputs": [
        {
          "output_type": "stream",
          "name": "stderr",
          "text": [
            "[nltk_data] Downloading package stopwords to /root/nltk_data...\n",
            "[nltk_data]   Package stopwords is already up-to-date!\n"
          ]
        },
        {
          "output_type": "execute_result",
          "data": {
            "text/plain": [
              "True"
            ]
          },
          "metadata": {},
          "execution_count": 84
        }
      ]
    },
    {
      "cell_type": "code",
      "source": [
        "tokenizer = RegexpTokenizer(r\"\\w+\")\n",
        "en_stopwords = set(stopwords.words('english'))\n",
        "ps = PorterStemmer()"
      ],
      "metadata": {
        "id": "BYBAAa5URpn4"
      },
      "execution_count": null,
      "outputs": []
    },
    {
      "cell_type": "code",
      "source": [
        "def getCleanedText(text):\n",
        "  text = text.lower()\n",
        "\n",
        "  # tokenizing\n",
        "  tokens = tokenizer.tokenize(text)\n",
        "  new_tokens = [token for token in tokens if token not in en_stopwords]\n",
        "  stemmed_tokens = [ps.stem(tokens) for tokens in new_tokens]\n",
        "  clean_text = \" \".join(stemmed_tokens)\n",
        "  return clean_text"
      ],
      "metadata": {
        "id": "EteN13pXSXdA"
      },
      "execution_count": null,
      "outputs": []
    },
    {
      "cell_type": "markdown",
      "source": [
        "# Input from the user"
      ],
      "metadata": {
        "id": "kZKnlgY1U2tM"
      }
    },
    {
      "cell_type": "code",
      "source": [
        "X_test = [\"it was bad\"]"
      ],
      "metadata": {
        "id": "DVpCNF6oU8lz"
      },
      "execution_count": null,
      "outputs": []
    },
    {
      "cell_type": "code",
      "source": [
        "X_clean = [getCleanedText(i) for i in X_train]\n",
        "xt_clean = [getCleanedText(i) for i in X_test]"
      ],
      "metadata": {
        "id": "SLlJ6ykQVMs0"
      },
      "execution_count": null,
      "outputs": []
    },
    {
      "cell_type": "code",
      "source": [
        "X_clean"
      ],
      "metadata": {
        "colab": {
          "base_uri": "https://localhost:8080/"
        },
        "id": "4ucLQoXkVeIc",
        "outputId": "14ffdbf2-818e-40c3-fb5c-2aa4cc03775c"
      },
      "execution_count": null,
      "outputs": [
        {
          "output_type": "execute_result",
          "data": {
            "text/plain": [
              "['realli awesom awesom movi',\n",
              " 'great movi ilik lot',\n",
              " 'happi end awesom act hero',\n",
              " 'love',\n",
              " 'bad upto mark',\n",
              " 'could better',\n",
              " 'realli dissapoint movi']"
            ]
          },
          "metadata": {},
          "execution_count": 89
        }
      ]
    },
    {
      "cell_type": "code",
      "source": [
        "# Data before cleaning\n",
        "'''\n",
        "X_train = [\"This was awesome an awesome movie\",\n",
        "           \"Great movie! Ilikes it a lot\",\n",
        "           \"Happy Ending! Awesome Acting by hero\",\n",
        "           \"loved it!\",\n",
        "           \"Bad not upto the mark\",\n",
        "           \"Could have been better\",\n",
        "           \"Dissapointed by the movie\"]\n",
        "'''"
      ],
      "metadata": {
        "colab": {
          "base_uri": "https://localhost:8080/",
          "height": 53
        },
        "id": "Q8ZKuifkVhG0",
        "outputId": "43733114-0389-40e6-f12c-785517466a06"
      },
      "execution_count": null,
      "outputs": [
        {
          "output_type": "execute_result",
          "data": {
            "text/plain": [
              "'\\nX_train = [\"This was awesome an awesome movie\",\\n           \"Great movie! Ilikes it a lot\",\\n           \"Happy Ending! Awesome Acting by hero\",\\n           \"loved it!\",\\n           \"Bad not upto the mark\",\\n           \"Could have been better\",\\n           \"Dissapointed by the movie\"]\\n'"
            ],
            "application/vnd.google.colaboratory.intrinsic+json": {
              "type": "string"
            }
          },
          "metadata": {},
          "execution_count": 90
        }
      ]
    },
    {
      "cell_type": "markdown",
      "source": [
        "# Vectorize"
      ],
      "metadata": {
        "id": "nvk17ZJOWCHM"
      }
    },
    {
      "cell_type": "code",
      "source": [
        "from sklearn.feature_extraction.text import CountVectorizer"
      ],
      "metadata": {
        "id": "knd_2aoFWEia"
      },
      "execution_count": null,
      "outputs": []
    },
    {
      "cell_type": "code",
      "source": [
        "cv = CountVectorizer(ngram_range = (1,2))\n",
        "# \"I am PyDev\" -> \"i am\", \"am Pydev\""
      ],
      "metadata": {
        "id": "Ac_4Z59zWhdI"
      },
      "execution_count": null,
      "outputs": []
    },
    {
      "cell_type": "code",
      "source": [
        "X_vec = cv.fit_transform(X_clean).toarray()"
      ],
      "metadata": {
        "id": "Ni5j2x5eXB53"
      },
      "execution_count": null,
      "outputs": []
    },
    {
      "cell_type": "code",
      "source": [
        "X_vec"
      ],
      "metadata": {
        "colab": {
          "base_uri": "https://localhost:8080/"
        },
        "id": "q593wLzUXNbY",
        "outputId": "6e492e08-d139-4e9c-a360-22611a7d7c94"
      },
      "execution_count": null,
      "outputs": [
        {
          "output_type": "execute_result",
          "data": {
            "text/plain": [
              "array([[0, 0, 2, 0, 1, 1, 0, 0, 0, 0, 0, 0, 0, 0, 0, 0, 0, 0, 0, 0, 0, 0,\n",
              "        0, 0, 0, 1, 0, 1, 1, 0, 0, 0],\n",
              "       [0, 0, 0, 0, 0, 0, 0, 0, 0, 0, 0, 0, 0, 0, 0, 1, 1, 0, 0, 0, 1, 1,\n",
              "        1, 0, 0, 1, 1, 0, 0, 0, 0, 0],\n",
              "       [1, 1, 1, 1, 0, 0, 0, 0, 0, 0, 0, 0, 0, 1, 1, 0, 0, 1, 1, 1, 0, 0,\n",
              "        0, 0, 0, 0, 0, 0, 0, 0, 0, 0],\n",
              "       [0, 0, 0, 0, 0, 0, 0, 0, 0, 0, 0, 0, 0, 0, 0, 0, 0, 0, 0, 0, 0, 0,\n",
              "        0, 1, 0, 0, 0, 0, 0, 0, 0, 0],\n",
              "       [0, 0, 0, 0, 0, 0, 1, 1, 0, 0, 0, 0, 0, 0, 0, 0, 0, 0, 0, 0, 0, 0,\n",
              "        0, 0, 1, 0, 0, 0, 0, 0, 1, 1],\n",
              "       [0, 0, 0, 0, 0, 0, 0, 0, 1, 1, 1, 0, 0, 0, 0, 0, 0, 0, 0, 0, 0, 0,\n",
              "        0, 0, 0, 0, 0, 0, 0, 0, 0, 0],\n",
              "       [0, 0, 0, 0, 0, 0, 0, 0, 0, 0, 0, 1, 1, 0, 0, 0, 0, 0, 0, 0, 0, 0,\n",
              "        0, 0, 0, 1, 0, 1, 0, 1, 0, 0]])"
            ]
          },
          "metadata": {},
          "execution_count": 94
        }
      ]
    },
    {
      "cell_type": "code",
      "source": [
        "print(cv.get_feature_names_out())"
      ],
      "metadata": {
        "colab": {
          "base_uri": "https://localhost:8080/"
        },
        "id": "NafJdQnKXPJS",
        "outputId": "38be770d-1920-4fdf-ed0b-a84984b39aa3"
      },
      "execution_count": null,
      "outputs": [
        {
          "output_type": "stream",
          "name": "stdout",
          "text": [
            "['act' 'act hero' 'awesom' 'awesom act' 'awesom awesom' 'awesom movi'\n",
            " 'bad' 'bad upto' 'better' 'could' 'could better' 'dissapoint'\n",
            " 'dissapoint movi' 'end' 'end awesom' 'great' 'great movi' 'happi'\n",
            " 'happi end' 'hero' 'ilik' 'ilik lot' 'lot' 'love' 'mark' 'movi'\n",
            " 'movi ilik' 'realli' 'realli awesom' 'realli dissapoint' 'upto'\n",
            " 'upto mark']\n"
          ]
        }
      ]
    },
    {
      "cell_type": "code",
      "source": [
        "Xt_vect = cv.transform(xt_clean).toarray()"
      ],
      "metadata": {
        "id": "pzA-qA03XWXW"
      },
      "execution_count": null,
      "outputs": []
    },
    {
      "cell_type": "code",
      "source": [
        "Xt_vect"
      ],
      "metadata": {
        "colab": {
          "base_uri": "https://localhost:8080/"
        },
        "id": "JmiEl_O8XnTI",
        "outputId": "36d8362f-4046-4af6-db69-9bef0b123d65"
      },
      "execution_count": null,
      "outputs": [
        {
          "output_type": "execute_result",
          "data": {
            "text/plain": [
              "array([[0, 0, 0, 0, 0, 0, 1, 0, 0, 0, 0, 0, 0, 0, 0, 0, 0, 0, 0, 0, 0, 0,\n",
              "        0, 0, 0, 0, 0, 0, 0, 0, 0, 0]])"
            ]
          },
          "metadata": {},
          "execution_count": 97
        }
      ]
    },
    {
      "cell_type": "markdown",
      "source": [
        "# Multinomial Naive Bayes"
      ],
      "metadata": {
        "id": "gb5m850iX762"
      }
    },
    {
      "cell_type": "code",
      "source": [
        "from sklearn.naive_bayes import MultinomialNB"
      ],
      "metadata": {
        "id": "JZRkPXl2YB3R"
      },
      "execution_count": null,
      "outputs": []
    },
    {
      "cell_type": "code",
      "source": [
        "mn = MultinomialNB()"
      ],
      "metadata": {
        "id": "dUDUIe58YZ8P"
      },
      "execution_count": null,
      "outputs": []
    },
    {
      "cell_type": "code",
      "source": [
        "mn.fit(X_vec, y_train)"
      ],
      "metadata": {
        "colab": {
          "base_uri": "https://localhost:8080/",
          "height": 74
        },
        "id": "zSKclpTVYdNn",
        "outputId": "d82ff943-e1b5-408e-afef-5978f922b820"
      },
      "execution_count": null,
      "outputs": [
        {
          "output_type": "execute_result",
          "data": {
            "text/plain": [
              "MultinomialNB()"
            ],
            "text/html": [
              "<style>#sk-container-id-4 {color: black;background-color: white;}#sk-container-id-4 pre{padding: 0;}#sk-container-id-4 div.sk-toggleable {background-color: white;}#sk-container-id-4 label.sk-toggleable__label {cursor: pointer;display: block;width: 100%;margin-bottom: 0;padding: 0.3em;box-sizing: border-box;text-align: center;}#sk-container-id-4 label.sk-toggleable__label-arrow:before {content: \"▸\";float: left;margin-right: 0.25em;color: #696969;}#sk-container-id-4 label.sk-toggleable__label-arrow:hover:before {color: black;}#sk-container-id-4 div.sk-estimator:hover label.sk-toggleable__label-arrow:before {color: black;}#sk-container-id-4 div.sk-toggleable__content {max-height: 0;max-width: 0;overflow: hidden;text-align: left;background-color: #f0f8ff;}#sk-container-id-4 div.sk-toggleable__content pre {margin: 0.2em;color: black;border-radius: 0.25em;background-color: #f0f8ff;}#sk-container-id-4 input.sk-toggleable__control:checked~div.sk-toggleable__content {max-height: 200px;max-width: 100%;overflow: auto;}#sk-container-id-4 input.sk-toggleable__control:checked~label.sk-toggleable__label-arrow:before {content: \"▾\";}#sk-container-id-4 div.sk-estimator input.sk-toggleable__control:checked~label.sk-toggleable__label {background-color: #d4ebff;}#sk-container-id-4 div.sk-label input.sk-toggleable__control:checked~label.sk-toggleable__label {background-color: #d4ebff;}#sk-container-id-4 input.sk-hidden--visually {border: 0;clip: rect(1px 1px 1px 1px);clip: rect(1px, 1px, 1px, 1px);height: 1px;margin: -1px;overflow: hidden;padding: 0;position: absolute;width: 1px;}#sk-container-id-4 div.sk-estimator {font-family: monospace;background-color: #f0f8ff;border: 1px dotted black;border-radius: 0.25em;box-sizing: border-box;margin-bottom: 0.5em;}#sk-container-id-4 div.sk-estimator:hover {background-color: #d4ebff;}#sk-container-id-4 div.sk-parallel-item::after {content: \"\";width: 100%;border-bottom: 1px solid gray;flex-grow: 1;}#sk-container-id-4 div.sk-label:hover label.sk-toggleable__label {background-color: #d4ebff;}#sk-container-id-4 div.sk-serial::before {content: \"\";position: absolute;border-left: 1px solid gray;box-sizing: border-box;top: 0;bottom: 0;left: 50%;z-index: 0;}#sk-container-id-4 div.sk-serial {display: flex;flex-direction: column;align-items: center;background-color: white;padding-right: 0.2em;padding-left: 0.2em;position: relative;}#sk-container-id-4 div.sk-item {position: relative;z-index: 1;}#sk-container-id-4 div.sk-parallel {display: flex;align-items: stretch;justify-content: center;background-color: white;position: relative;}#sk-container-id-4 div.sk-item::before, #sk-container-id-4 div.sk-parallel-item::before {content: \"\";position: absolute;border-left: 1px solid gray;box-sizing: border-box;top: 0;bottom: 0;left: 50%;z-index: -1;}#sk-container-id-4 div.sk-parallel-item {display: flex;flex-direction: column;z-index: 1;position: relative;background-color: white;}#sk-container-id-4 div.sk-parallel-item:first-child::after {align-self: flex-end;width: 50%;}#sk-container-id-4 div.sk-parallel-item:last-child::after {align-self: flex-start;width: 50%;}#sk-container-id-4 div.sk-parallel-item:only-child::after {width: 0;}#sk-container-id-4 div.sk-dashed-wrapped {border: 1px dashed gray;margin: 0 0.4em 0.5em 0.4em;box-sizing: border-box;padding-bottom: 0.4em;background-color: white;}#sk-container-id-4 div.sk-label label {font-family: monospace;font-weight: bold;display: inline-block;line-height: 1.2em;}#sk-container-id-4 div.sk-label-container {text-align: center;}#sk-container-id-4 div.sk-container {/* jupyter's `normalize.less` sets `[hidden] { display: none; }` but bootstrap.min.css set `[hidden] { display: none !important; }` so we also need the `!important` here to be able to override the default hidden behavior on the sphinx rendered scikit-learn.org. See: https://github.com/scikit-learn/scikit-learn/issues/21755 */display: inline-block !important;position: relative;}#sk-container-id-4 div.sk-text-repr-fallback {display: none;}</style><div id=\"sk-container-id-4\" class=\"sk-top-container\"><div class=\"sk-text-repr-fallback\"><pre>MultinomialNB()</pre><b>In a Jupyter environment, please rerun this cell to show the HTML representation or trust the notebook. <br />On GitHub, the HTML representation is unable to render, please try loading this page with nbviewer.org.</b></div><div class=\"sk-container\" hidden><div class=\"sk-item\"><div class=\"sk-estimator sk-toggleable\"><input class=\"sk-toggleable__control sk-hidden--visually\" id=\"sk-estimator-id-4\" type=\"checkbox\" checked><label for=\"sk-estimator-id-4\" class=\"sk-toggleable__label sk-toggleable__label-arrow\">MultinomialNB</label><div class=\"sk-toggleable__content\"><pre>MultinomialNB()</pre></div></div></div></div></div>"
            ]
          },
          "metadata": {},
          "execution_count": 100
        }
      ]
    },
    {
      "cell_type": "code",
      "source": [
        "y_pred = mn.predict(Xt_vect)"
      ],
      "metadata": {
        "id": "ke13CUKKYm18"
      },
      "execution_count": null,
      "outputs": []
    },
    {
      "cell_type": "code",
      "source": [
        "y_pred"
      ],
      "metadata": {
        "colab": {
          "base_uri": "https://localhost:8080/"
        },
        "id": "-BBlq2ejYx_o",
        "outputId": "8713c064-dd4f-44aa-9f49-6d73390aaccc"
      },
      "execution_count": null,
      "outputs": [
        {
          "output_type": "execute_result",
          "data": {
            "text/plain": [
              "array(['negative'], dtype='<U8')"
            ]
          },
          "metadata": {},
          "execution_count": 102
        }
      ]
    },
    {
      "cell_type": "code",
      "source": [],
      "metadata": {
        "id": "fGyAmlw4Y22k"
      },
      "execution_count": null,
      "outputs": []
    }
  ]
}